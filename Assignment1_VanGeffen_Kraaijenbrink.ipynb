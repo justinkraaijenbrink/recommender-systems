{
 "cells": [
  {
   "cell_type": "markdown",
   "metadata": {},
   "source": [
    "### A1 - Building a Recommender System\n",
    "\n",
    "Freek van Geffen | s2633256 <br>\n",
    "Justin Kraaijenbrink | s2577984"
   ]
  },
  {
   "cell_type": "code",
   "execution_count": 1,
   "metadata": {
    "id": "4Yzxqs_QGZwj"
   },
   "outputs": [],
   "source": [
    "import numpy as np\n",
    "import pandas as pd\n",
    "from sklearn.model_selection import KFold\n",
    "import matplotlib.pyplot as plt\n",
    "import os\n",
    "import time"
   ]
  },
  {
   "cell_type": "code",
   "execution_count": 3,
   "metadata": {
    "id": "HdAbreI2Hs7x"
   },
   "outputs": [],
   "source": [
    "filepath = \"C:/Users/Justin/Documents/01_Stat_science/Year_2/ADM/data\""
   ]
  },
  {
   "cell_type": "code",
   "execution_count": 4,
   "metadata": {
    "id": "y_q-tcQkP57M"
   },
   "outputs": [],
   "source": [
    "os.chdir(filepath)"
   ]
  },
  {
   "cell_type": "code",
   "execution_count": 5,
   "metadata": {
    "id": "wIPLpEknJfdt"
   },
   "outputs": [],
   "source": [
    "ratings = pd.read_table('ratings.dat', \n",
    "                        sep = '::', \n",
    "                        names = ['UserID', 'MovieID', 'Rating', 'Timestamp'],\n",
    "                        engine = 'python')\n",
    "\n",
    "users = pd.read_table('users.dat',\n",
    "                      sep = '::',\n",
    "                      names = ['UserID', 'Gender', 'Age', 'Occupation', 'ZIPcode'],\n",
    "                      engine = 'python')\n",
    "\n",
    "movies = pd.read_table('movies.dat', \n",
    "                       sep = '::',\n",
    "                       names = ['MovieID', 'Title', 'Genres'],\n",
    "                       engine = 'python')"
   ]
  },
  {
   "cell_type": "markdown",
   "metadata": {},
   "source": [
    "#### Descriptive statistics for the report"
   ]
  },
  {
   "cell_type": "code",
   "execution_count": 11,
   "metadata": {},
   "outputs": [
    {
     "data": {
      "text/plain": [
       "count    3706.000000\n",
       "mean      269.889099\n",
       "std       384.047838\n",
       "min         1.000000\n",
       "25%        33.000000\n",
       "50%       123.500000\n",
       "75%       350.000000\n",
       "max      3428.000000\n",
       "Name: MovieID, dtype: float64"
      ]
     },
     "execution_count": 11,
     "metadata": {},
     "output_type": "execute_result"
    }
   ],
   "source": [
    "ratings['UserID'].value_counts().describe(); ratings['MovieID'].value_counts().describe()"
   ]
  },
  {
   "cell_type": "code",
   "execution_count": 23,
   "metadata": {},
   "outputs": [
    {
     "data": {
      "image/png": "[encoded data removed]",
      "text/plain": [
       "<Figure size 432x288 with 1 Axes>"
      ]
     },
     "metadata": {
      "needs_background": "light"
     },
     "output_type": "display_data"
    }
   ],
   "source": [
    "plt.hist(x=np.array(ratings.Rating), bins=10)\n",
    "plt.show()"
   ]
  },
  {
   "cell_type": "markdown",
   "metadata": {
    "id": "GL2cbGpqgEnx"
   },
   "source": [
    "#### Global average approach"
   ]
  },
  {
   "cell_type": "code",
   "execution_count": 6,
   "metadata": {
    "id": "LJBJTNvjO1-x"
   },
   "outputs": [],
   "source": [
    "def global_average(train, test):\n",
    "    \n",
    "    avg_global = train.mean(axis=0)[2]\n",
    "    pred = [avg_global ]*len(test)\n",
    "    return(pred)"
   ]
  },
  {
   "cell_type": "code",
   "execution_count": 16,
   "metadata": {
    "colab": {
     "base_uri": "https://localhost:8080/",
     "height": 34
    },
    "id": "faRuV5gCdBLh",
    "outputId": "ddffcf96-6649-47d4-9309-9ab901394eb7"
   },
   "outputs": [
    {
     "name": "stdout",
     "output_type": "stream",
     "text": [
      "[1.11710106 0.93386054 1.11710138 0.93386216]\n",
      "2.147207021713257\n"
     ]
    }
   ],
   "source": [
    "start = time.time()\n",
    "# prepare cross validation\n",
    "kfold = KFold(5, shuffle = True, random_state = 2020)\n",
    "results = np.zeros((5,4))\n",
    "\n",
    "# enumerate splits\n",
    "i = 0\n",
    "for train_index, test_index in kfold.split(ratings):\n",
    "    pred_train = global_average(ratings.iloc[train_index,:], ratings.iloc[train_index,:])\n",
    "    pred_test = global_average(ratings.iloc[train_index,:], ratings.iloc[test_index,:])\n",
    "    \n",
    "    RMSE_train = np.sqrt(sum((ratings.iloc[train_index, 2] - pred_train)**2)/len(train_index))\n",
    "    MAE_train = sum(abs(ratings.iloc[train_index, 2] - pred_train))/len(train_index)\n",
    "\n",
    "    RMSE_test = np.sqrt(sum((ratings.iloc[test_index, 2] - pred_test)**2)/len(test_index))\n",
    "    MAE_test = sum(abs(ratings.iloc[test_index, 2] - pred_test))/len(test_index)\n",
    "    \n",
    "    results[i, 0] = RMSE_train\n",
    "    results[i, 1] = MAE_train\n",
    "    results[i, 2] = RMSE_test\n",
    "    results[i, 3] = MAE_test\n",
    "    i = i + 1\n",
    "\n",
    "print(results.mean(0))\n",
    "end = time.time()\n",
    "print(end - start)"
   ]
  },
  {
   "cell_type": "markdown",
   "metadata": {
    "id": "QFnafb2KfrgZ"
   },
   "source": [
    "#### Movie average approach\n"
   ]
  },
  {
   "cell_type": "code",
   "execution_count": 19,
   "metadata": {
    "id": "6LzQqJ4MxLlL"
   },
   "outputs": [],
   "source": [
    "def movie_average(train, test):\n",
    "  \n",
    "    avg_global = train.mean(axis=0)[2]\n",
    "    avg_movie = train.groupby(\"MovieID\").mean()['Rating']\n",
    "    avg_movie = np.vstack((avg_movie.index.values, avg_movie)).T\n",
    "    dict_movie = dict(avg_movie)\n",
    "  \n",
    "    pred = []\n",
    "    for u, m, r, t in np.array(test):\n",
    "        if m in dict_movie:\n",
    "            pred.append(dict_movie[m])\n",
    "\n",
    "        else:\n",
    "            pred.append(avg_global)\n",
    "\n",
    "    return(pred)"
   ]
  },
  {
   "cell_type": "code",
   "execution_count": 20,
   "metadata": {
    "colab": {
     "base_uri": "https://localhost:8080/",
     "height": 350
    },
    "id": "1uCcl7X51Wg4",
    "outputId": "cf3ebb17-9a24-4d0d-c7f8-4eb01c2051b3"
   },
   "outputs": [
    {
     "name": "stdout",
     "output_type": "stream",
     "text": [
      "[0.974224   0.77834097 0.97939312 0.78230598]\n",
      "9.629107475280762\n"
     ]
    }
   ],
   "source": [
    "start = time.time()\n",
    "# prepare cross validation\n",
    "kfold = KFold(5, shuffle = True, random_state = 2020)\n",
    "results = np.zeros((5,4))\n",
    "\n",
    "# enumerate splits\n",
    "i = 0\n",
    "for train_index, test_index in kfold.split(ratings):\n",
    "    pred_train = movie_average(ratings.iloc[train_index,:], ratings.iloc[train_index,:])\n",
    "    pred_test = movie_average(ratings.iloc[train_index,:], ratings.iloc[test_index,:])\n",
    "    \n",
    "    RMSE_train = np.sqrt(sum((ratings.iloc[train_index, 2] - pred_train)**2)/len(train_index))\n",
    "    MAE_train = sum(abs(ratings.iloc[train_index, 2] - pred_train))/len(train_index)\n",
    "    RMSE_test = np.sqrt(sum((ratings.iloc[test_index, 2] - pred_test)**2)/len(test_index))\n",
    "    MAE_test = sum(abs(ratings.iloc[test_index, 2] - pred_test))/len(test_index)\n",
    "\n",
    "    \n",
    "    results[i, 0] = RMSE_train\n",
    "    results[i, 1] = MAE_train\n",
    "    results[i, 2] = RMSE_test\n",
    "    results[i, 3] = MAE_test\n",
    "    i = i + 1\n",
    "\n",
    "print(results.mean(0))\n",
    "end = time.time()\n",
    "print(end - start)"
   ]
  },
  {
   "cell_type": "markdown",
   "metadata": {
    "id": "TOitky_Uf-zu"
   },
   "source": [
    "#### User average approach"
   ]
  },
  {
   "cell_type": "code",
   "execution_count": 38,
   "metadata": {
    "id": "nlxh0pKa8TxJ"
   },
   "outputs": [],
   "source": [
    "def user_average(train, test):\n",
    "\n",
    "    avg_global = train.mean(axis=0)[2]\n",
    "    avg_user = train.groupby(\"UserID\").mean()['Rating']\n",
    "    avg_user = np.vstack((avg_user.index.values, avg_user)).T\n",
    "    dict_user = dict(avg_user)\n",
    "  \n",
    "    pred = []\n",
    "    for u, m, r, t in np.array(test):\n",
    "        if u in dict_user:\n",
    "            pred.append(dict_user[u])\n",
    "\n",
    "        else:\n",
    "            pred.append(avg_global)\n",
    "\n",
    "    return(pred)"
   ]
  },
  {
   "cell_type": "code",
   "execution_count": 39,
   "metadata": {
    "colab": {
     "base_uri": "https://localhost:8080/",
     "height": 34
    },
    "id": "I01LQLmT8ns8",
    "outputId": "247b696b-091f-4a99-dc79-dc3d15e0b787"
   },
   "outputs": [
    {
     "name": "stdout",
     "output_type": "stream",
     "text": [
      "[1.02767192 0.82275828 1.03549152 0.82899602]\n",
      "13.270784378051758\n"
     ]
    }
   ],
   "source": [
    "start = time.time()\n",
    "# prepare cross validation\n",
    "kfold = KFold(5, shuffle = True, random_state = 2020)\n",
    "results = np.zeros((5,4))\n",
    "\n",
    "# enumerate splits\n",
    "i = 0\n",
    "for train_index, test_index in kfold.split(ratings):\n",
    "    pred_train = user_average(ratings.iloc[train_index,:], ratings.iloc[train_index,:])\n",
    "    pred_test = user_average(ratings.iloc[train_index,:], ratings.iloc[test_index,:])\n",
    "\n",
    "    RMSE_train = np.sqrt(sum((ratings.iloc[train_index, 2] - pred_train)**2)/len(train_index))\n",
    "    MAE_train = sum(abs(ratings.iloc[train_index, 2] - pred_train))/len(train_index)\n",
    "    RMSE_test = np.sqrt(sum((ratings.iloc[test_index, 2] - pred_test)**2)/len(test_index))\n",
    "    MAE_test = sum(abs(ratings.iloc[test_index, 2] - pred_test))/len(test_index)\n",
    "\n",
    "    results[i, 0] = RMSE_train\n",
    "    results[i, 1] = MAE_train\n",
    "    results[i, 2] = RMSE_test\n",
    "    results[i, 3] = MAE_test\n",
    "    i = i + 1\n",
    "\n",
    "print(results.mean(0))\n",
    "end = time.time()\n",
    "print(end - start)"
   ]
  },
  {
   "cell_type": "markdown",
   "metadata": {
    "id": "4OMlG4rPfiZK"
   },
   "source": [
    "#### Regression approach"
   ]
  },
  {
   "cell_type": "code",
   "execution_count": 23,
   "metadata": {
    "id": "zIzqkY7e-l2h"
   },
   "outputs": [],
   "source": [
    "def regression(train, test):\n",
    "    \n",
    "    avg_global = train.mean(axis=0)[2]\n",
    "    X_avg_user = train.groupby('UserID')['Rating'].transform('mean')\n",
    "    X_avg_movie = train.groupby('MovieID')['Rating'].transform('mean')\n",
    "    X = np.vstack([X_avg_user, X_avg_movie, np.ones(len(train))]).T\n",
    "    Y = np.array(train['Rating']).reshape([len(train), 1])\n",
    "    parameters = np.dot(np.dot(np.linalg.inv(np.dot(X.T, X)), X.T), Y)\n",
    "    \n",
    "    avg_user = train.groupby(\"UserID\").mean()['Rating']\n",
    "    avg_user = np.vstack((avg_user.index.values, avg_user)).T\n",
    "    mean_user = avg_user[:,1].mean()\n",
    "    dict_user = dict(avg_user)\n",
    " \n",
    "    avg_movie = train.groupby(\"MovieID\").mean()['Rating']    \n",
    "    avg_movie = np.vstack((avg_movie.index.values, avg_movie)).T\n",
    "    mean_movie = avg_movie[:,1].mean()\n",
    "    dict_movie = dict(avg_movie)\n",
    "\n",
    "    pred = []\n",
    "    for u, m, r, t in np.array(test):\n",
    "        if u in dict_user and m in dict_movie:\n",
    "            pred.append(float(parameters[0]*dict_user[u]+parameters[1]*dict_movie[m]+parameters[2]))\n",
    "        elif u in dict_user:\n",
    "            pred.append(float(parameters[0]*dict_user[u]+parameters[1]*mean_movie+parameters[2]))\n",
    "        elif m in dict_movie:\n",
    "            pred.append(float(parameters[0]*mean_user+parameters[1]*dict_movie[m]+parameters[2]))\n",
    "        else:\n",
    "            pred.append(avg_global)\n",
    "\n",
    "    for i in range(len(pred)):\n",
    "        if pred[i] > 5:\n",
    "            pred[i] = 5\n",
    "        if pred[i] < 1:\n",
    "            pred[i] = 1\n",
    "\n",
    "    return(pred)"
   ]
  },
  {
   "cell_type": "code",
   "execution_count": 25,
   "metadata": {
    "colab": {
     "base_uri": "https://localhost:8080/",
     "height": 34
    },
    "id": "wIf2zLepCUqo",
    "outputId": "71196d4a-a505-4c55-d1cb-dd5074067558"
   },
   "outputs": [
    {
     "name": "stdout",
     "output_type": "stream",
     "text": [
      "[0.91455366 0.72481226 0.92424706 0.73242584]\n",
      "31.621817111968994\n"
     ]
    }
   ],
   "source": [
    "start = time.time()\n",
    "# prepare cross validation\n",
    "kfold = KFold(5, shuffle = True, random_state = 2020)\n",
    "results = np.zeros((5,4))\n",
    "\n",
    "# enumerate splits\n",
    "i = 0\n",
    "for train_index, test_index in kfold.split(ratings):\n",
    "    pred_train = regression(ratings.iloc[train_index,:], ratings.iloc[train_index,:])\n",
    "    pred_test = regression(ratings.iloc[train_index,:], ratings.iloc[test_index,:])\n",
    "\n",
    "    RMSE_train = np.sqrt(sum((ratings.iloc[train_index, 2] - pred_train)**2)/len(train_index))\n",
    "    MAE_train = sum(abs(ratings.iloc[train_index, 2] - pred_train))/len(train_index)\n",
    "    RMSE_test = np.sqrt(sum((ratings.iloc[test_index, 2] - pred_test)**2)/len(test_index))\n",
    "    MAE_test = sum(abs(ratings.iloc[test_index, 2] - pred_test))/len(test_index)\n",
    "\n",
    "    results[i, 0] = RMSE_train\n",
    "    results[i, 1] = MAE_train\n",
    "    results[i, 2] = RMSE_test\n",
    "    results[i, 3] = MAE_test\n",
    "    i = i + 1\n",
    "\n",
    "print(results.mean(0))\n",
    "end = time.time()\n",
    "print(end - start)"
   ]
  },
  {
   "cell_type": "markdown",
   "metadata": {
    "id": "c8tfCyKYNP2L"
   },
   "source": [
    "#### UV Decomposition"
   ]
  },
  {
   "cell_type": "code",
   "execution_count": 29,
   "metadata": {},
   "outputs": [],
   "source": [
    "R = ratings.pivot(index = 'UserID', columns = 'MovieID', values = 'Rating')"
   ]
  },
  {
   "cell_type": "code",
   "execution_count": 6,
   "metadata": {},
   "outputs": [],
   "source": [
    "def ComputeError(R, U, V):\n",
    "    R = np.nan_to_num(np.array(R), 0)\n",
    "    xs, ys = R.nonzero()\n",
    "    prediction = U.dot(V)\n",
    "    prediction = np.where(prediction > 5, 5, prediction)\n",
    "    prediction = np.where(prediction < 1, 1, prediction)\n",
    "    \n",
    "    SE = 0\n",
    "    AE = 0\n",
    "    i = 0\n",
    "\n",
    "    for x, y in zip(xs, ys):\n",
    "        error = R[x, y] - prediction[x, y]\n",
    "        SE += pow(error, 2)\n",
    "        AE += np.abs(error)\n",
    "        i += 1\n",
    "        \n",
    "    out = {'RMSE' : np.sqrt(SE/i), 'MAE' : AE/i}\n",
    "    \n",
    "    return out"
   ]
  },
  {
   "cell_type": "code",
   "execution_count": 8,
   "metadata": {},
   "outputs": [],
   "source": [
    "def UVDecomposition(R, dim = 10, permute = True, eps = 0.01):\n",
    "    \n",
    "    R = np.nan_to_num(np.array(R), 0)\n",
    "    \n",
    "    num_users, num_items = np.shape(R)\n",
    "    \n",
    "    a = R[R.nonzero()].mean()\n",
    "    \n",
    "    U = np.full((num_users, dim), np.sqrt(a/dim))\n",
    "    V = np.full((dim, num_items), np.sqrt(a/dim))\n",
    "    \n",
    "    training_process = []; RMSE = [0, 10]; h = 1 \n",
    "       \n",
    "    order_dim = list(range(dim))\n",
    "    order_i = list(range(num_users))\n",
    "    order_j = list(range(num_items))\n",
    "\n",
    "    if permute:\n",
    "        np.random.shuffle(order_dim)\n",
    "        np.random.shuffle(order_i)\n",
    "        np.random.shuffle(order_j)\n",
    "\n",
    "    while abs(RMSE[h] - RMSE[h - 1]) > eps:\n",
    "        for k in order_dim:\n",
    "            for i in order_i:\n",
    "                ind_j = np.array(R[i, :].nonzero())\n",
    "                ind_j = ind_j.reshape(len(ind_j.T))\n",
    "                \n",
    "                if ind_j.shape[0] == 0: \n",
    "                    continue\n",
    "\n",
    "                U[i, k] = np.sum(V[k, ind_j] * (R[i, ind_j] - U[i, np.arange(dim) != k].dot(np.delete(V[:, ind_j], k, 0)))) / np.sum(V[k, ind_j]**2)\n",
    "\n",
    "            for j in order_j:\n",
    "                ind_i = np.array(R[:, j].nonzero())\n",
    "                ind_i = ind_i.reshape(len(ind_i.T))\n",
    "                \n",
    "                if ind_i.shape[0] == 0: \n",
    "                    continue\n",
    "\n",
    "                V[k, j] = np.sum(U[ind_i, k] * (R[ind_i, j] - np.delete(U[ind_i, :], k, 1).dot(V[np.arange(dim) != k, j]))) / np.sum(U[ind_i, k]**2)\n",
    "\n",
    "        error = ComputeError(R, U, V)\n",
    "        RMSE.append(error['RMSE'])\n",
    "        h = h + 1\n",
    "        training_process.append((h - 1, error['RMSE'], error['MAE']))\n",
    "        \n",
    "    out = {'training_process' : training_process, \n",
    "           'U' : U, \n",
    "           'V' : V}\n",
    "    \n",
    "    return out"
   ]
  },
  {
   "cell_type": "code",
   "execution_count": 10,
   "metadata": {},
   "outputs": [],
   "source": [
    "def IterateUV(R, num_iter, dim = 10, permute = True, eps = 0.01, seed = 2020):\n",
    "    num_users, num_items = R.shape\n",
    "    \n",
    "    Us = np.zeros([num_users, dim, num_iter])\n",
    "    Vs = np.zeros([dim, num_items, num_iter])\n",
    "    training_processes = 0\n",
    "    \n",
    "    for i in range(num_iter):\n",
    "        np.random.seed(seed + i)\n",
    "        out = UVDecomposition(R, dim = dim)\n",
    "        training_processes += np.array(out['training_process'])\n",
    "        Us[:, :, i] = out['U']\n",
    "        Vs[:, :, i] = out['V']\n",
    "     \n",
    "    out = {'train_process' : training_processes / num_iter, \n",
    "           'U' : Us.mean(axis = 2), \n",
    "           'V' : Vs.mean(axis = 2)}\n",
    "    \n",
    "    return out"
   ]
  },
  {
   "cell_type": "code",
   "execution_count": 37,
   "metadata": {},
   "outputs": [
    {
     "name": "stdout",
     "output_type": "stream",
     "text": [
      "[[0.88658254 0.70122663]\n",
      " [0.         0.        ]\n",
      " [0.         0.        ]\n",
      " [0.         0.        ]\n",
      " [0.         0.        ]]\n",
      "[[0.88658254 0.70122663]\n",
      " [0.88773066 0.70147421]\n",
      " [0.         0.        ]\n",
      " [0.         0.        ]\n",
      " [0.         0.        ]]\n",
      "[[0.88658254 0.70122663]\n",
      " [0.88773066 0.70147421]\n",
      " [0.88993055 0.70338864]\n",
      " [0.         0.        ]\n",
      " [0.         0.        ]]\n",
      "[[0.88658254 0.70122663]\n",
      " [0.88773066 0.70147421]\n",
      " [0.88993055 0.70338864]\n",
      " [0.88580222 0.700058  ]\n",
      " [0.         0.        ]]\n",
      "[[0.88658254 0.70122663]\n",
      " [0.88773066 0.70147421]\n",
      " [0.88993055 0.70338864]\n",
      " [0.88580222 0.700058  ]\n",
      " [0.88581121 0.69927336]]\n",
      "853.7532613277435\n"
     ]
    }
   ],
   "source": [
    "start = time.time()\n",
    "# prepare cross validation\n",
    "kfold = KFold(5, shuffle = True, random_state = 2020)\n",
    "test_results = np.zeros([5, 2])\n",
    "training_processes = []\n",
    "\n",
    "# enumerate splits \n",
    "i = 0\n",
    "for train_index, test_index in kfold.split(ratings):\n",
    "    train_ratings = ratings.copy()\n",
    "    train_ratings.iloc[test_index, 2] = 0\n",
    "    R_train = np.array(train_ratings.pivot(index = 'UserID', columns ='MovieID', values = 'Rating').fillna(0))\n",
    "    UV_fit = IterateUV(R_train, 2)\n",
    "    \n",
    "    test_ratings = ratings.copy()\n",
    "    test_ratings.iloc[train_index, 2] = 0\n",
    "    R_test = np.array(test_ratings.pivot(index = 'UserID', columns ='MovieID', values = 'Rating').fillna(0))\n",
    "    \n",
    "    train_error = UV_fit['train_process']\n",
    "    test_error = ComputeError(R_test, UV_fit['U'], UV_fit['V'])\n",
    "\n",
    "    training_processes.append(train_error)\n",
    "    test_results[i, 0] = test_error['RMSE']\n",
    "    test_results[i, 1] = test_error['MAE']\n",
    "        \n",
    "    print(test_results)\n",
    "    i = i + 1\n",
    "    \n",
    "end = time.time()\n",
    "print(end - start)"
   ]
  },
  {
   "cell_type": "code",
   "execution_count": 22,
   "metadata": {},
   "outputs": [
    {
     "name": "stdout",
     "output_type": "stream",
     "text": [
      "[[0.91308287 0.72158709]\n",
      " [0.         0.        ]\n",
      " [0.         0.        ]\n",
      " [0.         0.        ]\n",
      " [0.         0.        ]]\n",
      "[[0.91308287 0.72158709]\n",
      " [0.91418231 0.7220692 ]\n",
      " [0.         0.        ]\n",
      " [0.         0.        ]\n",
      " [0.         0.        ]]\n",
      "[[0.91308287 0.72158709]\n",
      " [0.91418231 0.7220692 ]\n",
      " [0.91695975 0.72380816]\n",
      " [0.         0.        ]\n",
      " [0.         0.        ]]\n",
      "[[0.91308287 0.72158709]\n",
      " [0.91418231 0.7220692 ]\n",
      " [0.91695975 0.72380816]\n",
      " [0.91314666 0.72095463]\n",
      " [0.         0.        ]]\n",
      "[[0.91308287 0.72158709]\n",
      " [0.91418231 0.7220692 ]\n",
      " [0.91695975 0.72380816]\n",
      " [0.91314666 0.72095463]\n",
      " [0.91286362 0.71985959]]\n",
      "[[0.88658254 0.70122663]\n",
      " [0.         0.        ]\n",
      " [0.         0.        ]\n",
      " [0.         0.        ]\n",
      " [0.         0.        ]]\n",
      "[[0.88658254 0.70122663]\n",
      " [0.88773066 0.70147421]\n",
      " [0.         0.        ]\n",
      " [0.         0.        ]\n",
      " [0.         0.        ]]\n",
      "[[0.88658254 0.70122663]\n",
      " [0.88773066 0.70147421]\n",
      " [0.88993055 0.70338864]\n",
      " [0.         0.        ]\n",
      " [0.         0.        ]]\n",
      "[[0.88658254 0.70122663]\n",
      " [0.88773066 0.70147421]\n",
      " [0.88993055 0.70338864]\n",
      " [0.88580222 0.700058  ]\n",
      " [0.         0.        ]]\n",
      "[[0.88658254 0.70122663]\n",
      " [0.88773066 0.70147421]\n",
      " [0.88993055 0.70338864]\n",
      " [0.88580222 0.700058  ]\n",
      " [0.88581121 0.69927336]]\n",
      "[[0.89215318 0.7058827 ]\n",
      " [0.         0.        ]\n",
      " [0.         0.        ]\n",
      " [0.         0.        ]\n",
      " [0.         0.        ]]\n",
      "[[0.89215318 0.7058827 ]\n",
      " [0.89196435 0.70469606]\n",
      " [0.         0.        ]\n",
      " [0.         0.        ]\n",
      " [0.         0.        ]]\n",
      "[[0.89215318 0.7058827 ]\n",
      " [0.89196435 0.70469606]\n",
      " [0.89471537 0.70692981]\n",
      " [0.         0.        ]\n",
      " [0.         0.        ]]\n",
      "[[0.89215318 0.7058827 ]\n",
      " [0.89196435 0.70469606]\n",
      " [0.89471537 0.70692981]\n",
      " [0.88943054 0.7032203 ]\n",
      " [0.         0.        ]]\n",
      "[[0.89215318 0.7058827 ]\n",
      " [0.89196435 0.70469606]\n",
      " [0.89471537 0.70692981]\n",
      " [0.88943054 0.7032203 ]\n",
      " [0.89191473 0.70332911]]\n"
     ]
    }
   ],
   "source": [
    "dims = [2, 10, 15]\n",
    "times = []; RMSEs = []; MAEs = []\n",
    "\n",
    "for k in range(len(dims)):\n",
    "    start = time.time()\n",
    "    # prepare cross validation\n",
    "    kfold = KFold(5, shuffle = True, random_state = 2020)\n",
    "    test_results = np.zeros([5, 2])\n",
    "    \n",
    "    i = 0\n",
    "    for train_index, test_index in kfold.split(ratings):\n",
    "        train_ratings = ratings.copy()\n",
    "        train_ratings.iloc[test_index, 2] = 0\n",
    "        R_train = np.array(train_ratings.pivot(index = 'UserID', columns ='MovieID', values = 'Rating').fillna(0))\n",
    "        UV_fit = IterateUV(R_train, num_iter = 2, dim = dims[k])\n",
    "\n",
    "        test_ratings = ratings.copy()\n",
    "        test_ratings.iloc[train_index, 2] = 0\n",
    "        R_test = np.array(test_ratings.pivot(index = 'UserID', columns ='MovieID', values = 'Rating').fillna(0))\n",
    "\n",
    "        test_error = ComputeError(R_test, UV_fit['U'], UV_fit['V'])\n",
    "\n",
    "        test_results[i, 0] = test_error['RMSE']\n",
    "        test_results[i, 1] = test_error['MAE']\n",
    "\n",
    "        print(test_results)\n",
    "        i = i + 1\n",
    "\n",
    "        end = time.time()\n",
    "    \n",
    "    times.append((end - start))\n",
    "    RMSEs.append(test_results.mean(axis = 0)[0])\n",
    "    MAEs.append(test_results.mean(axis = 0)[1])"
   ]
  },
  {
   "cell_type": "code",
   "execution_count": 25,
   "metadata": {},
   "outputs": [
    {
     "name": "stdout",
     "output_type": "stream",
     "text": [
      "[271.7992374897003, 1869.810875415802, 3269.936841726303]\n",
      "[0.9140470396834013, 0.8871714368214019, 0.8920356339612898]\n",
      "[0.7216557359302415, 0.7010841666807306, 0.7048115968130791]\n"
     ]
    }
   ],
   "source": [
    "print(times)\n",
    "print(RMSEs)\n",
    "print(MAEs)"
   ]
  },
  {
   "cell_type": "code",
   "execution_count": 65,
   "metadata": {},
   "outputs": [
    {
     "data": {
      "image/png": "[encoded data removed]",
      "text/plain": [
       "<Figure size 432x288 with 1 Axes>"
      ]
     },
     "metadata": {
      "needs_background": "light"
     },
     "output_type": "display_data"
    }
   ],
   "source": [
    "errors = RMSEs + MAEs\n",
    "labels = ('RMSE', 'MAE')\n",
    "y_pos = np.arange(len(errors))\n",
    "\n",
    "plt.bar(y_pos, errors, color = ('darkblue', 'firebrick', 'lightseagreen'))\n",
    "colors = {'dim = 2': 'darkblue', \n",
    "          'dim = 10': 'firebrick', \n",
    "          'dim = 15': 'lightseagreen'}         \n",
    "labels2 = list(colors.keys())\n",
    "handles = [plt.Rectangle((0,0),1,1, color=colors[label]) for label in labels2]\n",
    "plt.legend(handles, labels2)\n",
    "plt.xticks([1, 4], labels)\n",
    "plt.savefig('dimtest.png')\n",
    "plt.show()"
   ]
  },
  {
   "cell_type": "code",
   "execution_count": 38,
   "metadata": {},
   "outputs": [
    {
     "data": {
      "text/plain": [
       "0.835916843798166"
      ]
     },
     "execution_count": 38,
     "metadata": {},
     "output_type": "execute_result"
    }
   ],
   "source": [
    "# calculate average train RMSE\n",
    "train_RMSE = np.mean([training_processes[0][5][1],\n",
    "                      training_processes[1][5][1],\n",
    "                      training_processes[2][5][1],\n",
    "                      training_processes[3][5][1],\n",
    "                      training_processes[4][5][1]])\n",
    "train_RMSE"
   ]
  },
  {
   "cell_type": "code",
   "execution_count": 39,
   "metadata": {},
   "outputs": [
    {
     "data": {
      "text/plain": [
       "0.6555779424174111"
      ]
     },
     "execution_count": 39,
     "metadata": {},
     "output_type": "execute_result"
    }
   ],
   "source": [
    "# calculate average train MAE\n",
    "train_MAE = np.mean([training_processes[0][5][2],\n",
    "                     training_processes[1][5][2],\n",
    "                     training_processes[2][5][2],\n",
    "                     training_processes[3][5][2],\n",
    "                     training_processes[4][5][2]])\n",
    "train_MAE"
   ]
  },
  {
   "cell_type": "code",
   "execution_count": 40,
   "metadata": {},
   "outputs": [
    {
     "name": "stdout",
     "output_type": "stream",
     "text": [
      "0.8871714368214019 0.7010841666807306\n"
     ]
    }
   ],
   "source": [
    "# calculate average test RMSE and MAE\n",
    "test_RMSE = test_results.mean(axis = 0)[0]\n",
    "test_MAE = test_results.mean(axis = 0)[1]\n",
    "print(test_RMSE, test_MAE)"
   ]
  },
  {
   "cell_type": "code",
   "execution_count": 41,
   "metadata": {},
   "outputs": [
    {
     "data": {
      "image/png": "[encoded data removed]",
      "text/plain": [
       "<Figure size 432x288 with 1 Axes>"
      ]
     },
     "metadata": {
      "needs_background": "light"
     },
     "output_type": "display_data"
    }
   ],
   "source": [
    "# visualize errors\n",
    "errors = [train_RMSE, test_RMSE, train_MAE, test_MAE]\n",
    "labels = ('train RMSE', 'test RMSE', 'train MAE', 'test MAE')\n",
    "y_pos = np.arange(len(labels))\n",
    "\n",
    "plt.bar(y_pos, errors, color = ('royalblue', 'darkorange'))\n",
    "plt.xticks(y_pos, labels)\n",
    "plt.savefig('error_bars.png')\n",
    "plt.show()"
   ]
  },
  {
   "cell_type": "code",
   "execution_count": 42,
   "metadata": {},
   "outputs": [
    {
     "data": {
      "image/png": "[encoded data removed]",
      "text/plain": [
       "<Figure size 1440x432 with 2 Axes>"
      ]
     },
     "metadata": {
      "needs_background": "light"
     },
     "output_type": "display_data"
    }
   ],
   "source": [
    "fig, axes = plt.subplots(nrows=1, ncols=2, figsize=(20, 6))  \n",
    "for iter in range(5):\n",
    "    axes[0].plot([i[0] for i in training_processes[0]], [i[1] for i in training_processes[iter]])\n",
    "    axes[0].set_xlabel('iterations', size = 'xx-large')\n",
    "    axes[0].set_ylabel('RMSE', size = 'xx-large')\n",
    "    axes[0].tick_params(labelsize = 'x-large')\n",
    "\n",
    "for iter in range(5):\n",
    "    axes[1].plot([i[0] for i in training_processes[0]], [i[2] for i in training_processes[iter]])\n",
    "    axes[1].set_xlabel('iterations', size = 'xx-large')\n",
    "    axes[1].set_ylabel('MAE', size = 'xx-large')\n",
    "    axes[1].tick_params(labelsize = 'x-large')\n",
    "fig.tight_layout()"
   ]
  },
  {
   "cell_type": "code",
   "execution_count": 43,
   "metadata": {},
   "outputs": [],
   "source": [
    "fig.savefig('UV_train.png')"
   ]
  },
  {
   "cell_type": "markdown",
   "metadata": {
    "id": "c8tfCyKYNP2L"
   },
   "source": [
    "#### Matrix Factorization"
   ]
  },
  {
   "cell_type": "code",
   "execution_count": 22,
   "metadata": {
    "id": "FNprlvMU6ns8"
   },
   "outputs": [],
   "source": [
    "def ComputeRMSE(R, U, M):\n",
    "\n",
    "    xs, ys = R.nonzero()\n",
    "    prediction = U.dot(M.T)\n",
    "    prediction[prediction > 5] = 5\n",
    "    prediction[prediction < 1] = 1\n",
    "    SE = 0\n",
    "    i = 0\n",
    "\n",
    "    for x, y in zip(xs, ys):\n",
    "        error = R[x, y] - prediction[x, y]\n",
    "        SE += pow(error, 2)\n",
    "        i += 1\n",
    "    \n",
    "    return np.sqrt(SE/i)\n",
    "\n",
    "def ComputeMAE(R, U, M):\n",
    "\n",
    "    xs, ys = R.nonzero()\n",
    "    prediction = U.dot(M.T)\n",
    "    AE = 0\n",
    "    i = 0\n",
    "\n",
    "    for x, y in zip(xs, ys):\n",
    "        error = R[x, y] - prediction[x, y]\n",
    "        AE += abs(error)\n",
    "        i += 1\n",
    "    \n",
    "    return (AE/i)"
   ]
  },
  {
   "cell_type": "code",
   "execution_count": 45,
   "metadata": {
    "id": "WI60c7lv6eQM"
   },
   "outputs": [],
   "source": [
    "def MF(R, num_factors = 10, num_iter = 75, regularization = 0.05, learn_rate = 0.005, seed = 2020):\n",
    "    \n",
    "    num_users, num_items = R.shape\n",
    "    np.random.seed(seed)\n",
    "    U = np.random.normal(size = (num_users, num_factors))\n",
    "    M = np.random.normal(size = (num_items, num_factors))\n",
    "\n",
    "    samples = [(i, j, R[i, j])\n",
    "               for i in range(num_users)\n",
    "               for j in range(num_items)\n",
    "               if R[i, j] > 0]\n",
    "    \n",
    "    training_process = []\n",
    "    for iter in range(num_iter):\n",
    "        np.random.shuffle(samples)\n",
    "        \n",
    "        for i, j, r in samples:\n",
    "            prediction = U[i,:].dot(M[j,:].T)\n",
    "            if prediction > 5:\n",
    "                prediction = 5\n",
    "            if prediction < 1:\n",
    "                prediction = 1\n",
    "            e = (r - prediction)\n",
    "            \n",
    "            # Update the weights\n",
    "            U[i,:] += learn_rate * (2 * e * M[j,:] - regularization * U[i,:])\n",
    "            M[j,:] += learn_rate * (2 * e * U[i,:] - regularization * M[j,:])\n",
    "        \n",
    "        RMSE = ComputeRMSE(R, U, M)\n",
    "        MAE = ComputeMAE(R, U, M)\n",
    "        training_process.append((iter, RMSE, MAE))\n",
    "        \n",
    "        # Iteration progress messages\n",
    "        if (iter+1) % 10 == 0:\n",
    "            print(\"Iteration: %d ; RMSE = %.4f ; MAE %.4f\"   % (iter+1, RMSE, MAE))\n",
    "            \n",
    "        # Terminal condition\n",
    "        if iter > 1:\n",
    "            if training_process[iter][1] >= training_process[iter-1][1] >= training_process[iter-2][1]:\n",
    "                break\n",
    "\n",
    "    out = {'training_process': training_process, 'U' : U, 'M' : M}\n",
    "    return(out)"
   ]
  },
  {
   "cell_type": "code",
   "execution_count": 47,
   "metadata": {},
   "outputs": [
    {
     "name": "stdout",
     "output_type": "stream",
     "text": [
      "Iteration: 10 ; RMSE = 0.8723 ; MAE 0.6921\n",
      "Iteration: 20 ; RMSE = 0.8378 ; MAE 0.6632\n",
      "Iteration: 30 ; RMSE = 0.8151 ; MAE 0.6447\n",
      "Iteration: 40 ; RMSE = 0.7992 ; MAE 0.6324\n",
      "Iteration: 50 ; RMSE = 0.7885 ; MAE 0.6239\n",
      "Iteration: 60 ; RMSE = 0.7809 ; MAE 0.6171\n",
      "Iteration: 70 ; RMSE = 0.7757 ; MAE 0.6130\n",
      "[[0.77375885 0.61152327 0.87958543 0.69102691]\n",
      " [0.         0.         0.         0.        ]\n",
      " [0.         0.         0.         0.        ]\n",
      " [0.         0.         0.         0.        ]\n",
      " [0.         0.         0.         0.        ]]\n",
      "Iteration: 10 ; RMSE = 0.8725 ; MAE 0.6922\n",
      "Iteration: 20 ; RMSE = 0.8368 ; MAE 0.6624\n",
      "Iteration: 30 ; RMSE = 0.8141 ; MAE 0.6439\n",
      "Iteration: 40 ; RMSE = 0.7992 ; MAE 0.6319\n",
      "Iteration: 50 ; RMSE = 0.7895 ; MAE 0.6247\n",
      "Iteration: 60 ; RMSE = 0.7808 ; MAE 0.6172\n",
      "Iteration: 70 ; RMSE = 0.7762 ; MAE 0.6135\n",
      "[[0.77375885 0.61152327 0.87958543 0.69102691]\n",
      " [0.77472932 0.6123126  0.88196797 0.69217913]\n",
      " [0.         0.         0.         0.        ]\n",
      " [0.         0.         0.         0.        ]\n",
      " [0.         0.         0.         0.        ]]\n",
      "Iteration: 10 ; RMSE = 0.8727 ; MAE 0.6924\n",
      "Iteration: 20 ; RMSE = 0.8373 ; MAE 0.6625\n",
      "Iteration: 30 ; RMSE = 0.8144 ; MAE 0.6443\n",
      "Iteration: 40 ; RMSE = 0.7995 ; MAE 0.6326\n",
      "Iteration: 50 ; RMSE = 0.7884 ; MAE 0.6230\n",
      "Iteration: 60 ; RMSE = 0.7822 ; MAE 0.6190\n",
      "Iteration: 70 ; RMSE = 0.7762 ; MAE 0.6136\n",
      "[[0.77375885 0.61152327 0.87958543 0.69102691]\n",
      " [0.77472932 0.6123126  0.88196797 0.69217913]\n",
      " [0.77517275 0.61315065 0.88200439 0.69335721]\n",
      " [0.         0.         0.         0.        ]\n",
      " [0.         0.         0.         0.        ]]\n",
      "Iteration: 10 ; RMSE = 0.8712 ; MAE 0.6912\n",
      "Iteration: 20 ; RMSE = 0.8371 ; MAE 0.6623\n",
      "Iteration: 30 ; RMSE = 0.8144 ; MAE 0.6442\n",
      "Iteration: 40 ; RMSE = 0.7985 ; MAE 0.6314\n",
      "Iteration: 50 ; RMSE = 0.7877 ; MAE 0.6229\n",
      "Iteration: 60 ; RMSE = 0.7808 ; MAE 0.6175\n",
      "Iteration: 70 ; RMSE = 0.7759 ; MAE 0.6130\n",
      "[[0.77375885 0.61152327 0.87958543 0.69102691]\n",
      " [0.77472932 0.6123126  0.88196797 0.69217913]\n",
      " [0.77517275 0.61315065 0.88200439 0.69335721]\n",
      " [0.77450063 0.61216174 0.88108642 0.69206791]\n",
      " [0.         0.         0.         0.        ]]\n",
      "Iteration: 10 ; RMSE = 0.8729 ; MAE 0.6924\n",
      "Iteration: 20 ; RMSE = 0.8383 ; MAE 0.6630\n",
      "Iteration: 30 ; RMSE = 0.8158 ; MAE 0.6454\n",
      "Iteration: 40 ; RMSE = 0.8011 ; MAE 0.6334\n",
      "Iteration: 50 ; RMSE = 0.7900 ; MAE 0.6251\n",
      "Iteration: 60 ; RMSE = 0.7819 ; MAE 0.6179\n",
      "Iteration: 70 ; RMSE = 0.7771 ; MAE 0.6145\n",
      "[[0.77375885 0.61152327 0.87958543 0.69102691]\n",
      " [0.77472932 0.6123126  0.88196797 0.69217913]\n",
      " [0.77517275 0.61315065 0.88200439 0.69335721]\n",
      " [0.77450063 0.61216174 0.88108642 0.69206791]\n",
      " [0.77463157 0.61252557 0.87685435 0.6887261 ]]\n",
      "[0.77455862 0.61233476 0.88029971 0.69147145]\n",
      "8551.791841506958\n"
     ]
    }
   ],
   "source": [
    "start = time.time()\n",
    "# prepare cross validation\n",
    "kfold = KFold(5, shuffle = True, random_state = 2020)\n",
    "results = np.zeros((5,2))\n",
    "\n",
    "# enumerate splits\n",
    "i = 0\n",
    "for train_index, test_index in kfold.split(ratings):\n",
    "    train_ratings = ratings.copy()\n",
    "    train_ratings.iloc[test_index,2] = 0\n",
    "    R_train = np.array(train_ratings.pivot(index = 'UserID', columns ='MovieID', values = 'Rating').fillna(0))\n",
    "    MF_fit = MF(R_train)\n",
    "    \n",
    "    test_ratings = ratings.copy()\n",
    "    test_ratings.iloc[train_index,2] = 0\n",
    "    R_test = np.array(test_ratings.pivot(index = 'UserID', columns ='MovieID', values = 'Rating').fillna(0))\n",
    "\n",
    "    RMSE_test = ComputeRMSE(R_test, MF_fit['U'], MF_fit['M'])\n",
    "    MAE_test = ComputeMAE(R_test, MF_fit['U'], MF_fit['M'])\n",
    "    \n",
    "    results[i, 0] = RMSE_test\n",
    "    results[i, 1] = MAE_test\n",
    "    print(results)\n",
    "    i = i + 1\n",
    "    training_processes.append(MF_fit['training_process'])\n",
    "\n",
    "print(results.mean(0))\n",
    "end = time.time()\n",
    "print(end - start)"
   ]
  },
  {
   "cell_type": "code",
   "execution_count": 52,
   "metadata": {},
   "outputs": [],
   "source": [
    "pd.DataFrame(training_processes).to_csv(\"training_processes.csv\")"
   ]
  },
  {
   "cell_type": "code",
   "execution_count": 53,
   "metadata": {},
   "outputs": [],
   "source": [
    "pd.DataFrame(results).to_csv(\"results.csv\")"
   ]
  },
  {
   "cell_type": "code",
   "execution_count": 121,
   "metadata": {},
   "outputs": [
    {
     "data": {
      "text/plain": [
       "0.09340214434172049"
      ]
     },
     "execution_count": 121,
     "metadata": {},
     "output_type": "execute_result"
    }
   ],
   "source": [
    "# calculate train RMSE\n",
    "np.mean([training_processes[0][74][1],\n",
    "        training_processes[1][74][1],\n",
    "        training_processes[2][74][1],\n",
    "        training_processes[3][74][1],\n",
    "        training_processes[4][74][1]])"
   ]
  },
  {
   "cell_type": "code",
   "execution_count": 120,
   "metadata": {},
   "outputs": [
    {
     "data": {
      "text/plain": [
       "0.18566775475815675"
      ]
     },
     "execution_count": 120,
     "metadata": {},
     "output_type": "execute_result"
    }
   ],
   "source": [
    "# calculate train MAE\n",
    "np.mean([training_processes[0][74][2],\n",
    "        training_processes[1][74][2],\n",
    "        training_processes[2][74][2],\n",
    "        training_processes[3][74][2],\n",
    "        training_processes[4][74][2]])"
   ]
  },
  {
   "cell_type": "code",
   "execution_count": 84,
   "metadata": {},
   "outputs": [
    {
     "data": {
      "image/png": "[encoded data removed]",
      "text/plain": [
       "<Figure size 1440x432 with 2 Axes>"
      ]
     },
     "metadata": {
      "needs_background": "light"
     },
     "output_type": "display_data"
    }
   ],
   "source": [
    "fig, axes = plt.subplots(nrows=1, ncols=2, figsize=(20, 6))  \n",
    "for iter in range(5):\n",
    "    axes[0].plot([i[0] for i in training_processes[0]], [i[1] for i in training_processes[iter]])\n",
    "    axes[0].set_xlabel('iterations', size = 'xx-large')\n",
    "    axes[0].set_ylabel('RMSE', size = 'xx-large')\n",
    "    axes[0].tick_params(labelsize = 'x-large')\n",
    "\n",
    "for iter in range(5):\n",
    "    axes[1].plot([i[0] for i in training_processes[0]], [i[2] for i in training_processes[iter]])\n",
    "    axes[1].set_xlabel('iterations', size = 'xx-large')\n",
    "    axes[1].set_ylabel('MAE', size = 'xx-large')\n",
    "    axes[1].tick_params(labelsize = 'x-large')\n",
    "fig.tight_layout()"
   ]
  },
  {
   "cell_type": "code",
   "execution_count": 86,
   "metadata": {},
   "outputs": [],
   "source": [
    "fig.savefig('MV_train.png')"
   ]
  }
 ],
 "metadata": {
  "colab": {
   "collapsed_sections": [],
   "name": "Assignment1_VanGeffen_Kraaijenbrink.ipynb",
   "provenance": []
  },
  "kernelspec": {
   "display_name": "Python 3",
   "language": "python",
   "name": "python3"
  },
  "language_info": {
   "codemirror_mode": {
    "name": "ipython",
    "version": 3
   },
   "file_extension": ".py",
   "mimetype": "text/x-python",
   "name": "python",
   "nbconvert_exporter": "python",
   "pygments_lexer": "ipython3",
   "version": "3.8.3"
  }
 },
 "nbformat": 4,
 "nbformat_minor": 1
}
